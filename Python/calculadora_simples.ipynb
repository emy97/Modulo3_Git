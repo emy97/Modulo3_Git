{
  "nbformat": 4,
  "nbformat_minor": 0,
  "metadata": {
    "colab": {
      "provenance": []
    },
    "kernelspec": {
      "name": "python3",
      "display_name": "Python 3"
    },
    "language_info": {
      "name": "python"
    }
  },
  "cells": [
    {
      "cell_type": "code",
      "execution_count": null,
      "metadata": {
        "colab": {
          "base_uri": "https://localhost:8080/"
        },
        "id": "F3kn8LPnHuNN",
        "outputId": "9bbca0c3-f7a7-4cac-a5ae-547648828833"
      },
      "outputs": [
        {
          "output_type": "stream",
          "name": "stdout",
          "text": [
            "Calculadora simples da - Emily Comin\n",
            "Qual seu nome ? emy\n",
            "\n",
            " Digite o primeiro valor: 0\n",
            "Digite o segundo valor: 0\n",
            "\n",
            " Escolha entre as opções de operação abaixo ! \n",
            "Adição - Coloque: +\n",
            "Subtração - Coloque: -\n",
            "Divisão - Coloque: /\n",
            "Multiplicação  - Coloque: *\n",
            "\n",
            "\n",
            " Digite qual operação deseja fazer :/\n",
            "Não é possivel dividir por 0 \n",
            "Deseja fazer outra operação ? (Sim - digite : y  | não - digite:  n)n\n",
            "\n",
            " Obrigado por utilizar minha calculadora EMY, até a proxima !\n"
          ]
        }
      ],
      "source": [
        "#Calculadora simples\n",
        "\n",
        "print(\"Calculadora simples da - Emily Comin\")\n",
        "\n",
        "user = input('Qual seu nome ? ').upper()\n",
        "\n",
        "while True:\n",
        "  #Começando as variaveis\n",
        "  valores = []\n",
        "  calculo = 0\n",
        "  operação = ''\n",
        "  resposta = ''\n",
        "\n",
        "\n",
        "  valor_1 = float(input(\"\\n Digite o primeiro valor: \")) #Pegando valor 1\n",
        "  valor_2 = float(input(\"Digite o segundo valor: \")) #Pegando valor 2\n",
        "\n",
        "  valores.append(valor_1)\n",
        "  valores.append(valor_2)\n",
        "\n",
        "\n",
        "  print(\"\\n Escolha entre as opções de operação abaixo ! \")\n",
        "  print(\"Adição - Coloque: +\")\n",
        "  print(\"Subtração - Coloque: -\")\n",
        "  print(\"Divisão - Coloque: /\")\n",
        "  print(\"Multiplicação  - Coloque: *\\n\")\n",
        "\n",
        "  #Validar a inserção\n",
        "  while True:\n",
        "    operacao = input(\"\\n Digite qual operação deseja fazer :\")\n",
        "    if operacao != '+' and operacao != '-' and operacao != '/' and operacao != '*':\n",
        "       print(\"\\n Digite um valor valido ! \\n\")\n",
        "    else:\n",
        "      break\n",
        "  # Executando a operação\n",
        "  if operacao == '+':\n",
        "    calculo = valores[0] + valores[1]\n",
        "    print(f\"A soma dos valores é :{calculo:.2f}\")\n",
        "  elif operacao == '-':\n",
        "    calculo = valores[0] - valores[1]\n",
        "    print(f\"A subtração dos valores é :{calculo:.2f}\")\n",
        "  elif operacao == '/':\n",
        "    if valores[1] == 0:\n",
        "      print(\"Não é possivel dividir por 0 \")\n",
        "    else:\n",
        "      calculo = valores[0] / valores[1]\n",
        "      print(f\"A divisão dos valores é :{calculo:.2f}\")\n",
        "  else:\n",
        "    calculo = valores[0] * valores[1]\n",
        "    print(f\"A Multiplicação dos valores é :{calculo:.2f}\")\n",
        "\n",
        "  #Continua sim ou não\n",
        "  while True:\n",
        "    resposta = input(\"Deseja fazer outra operação ? (Sim - digite : s  | não - digite:  n)\").lower()\n",
        "    if resposta != 's' and resposta != 'n':\n",
        "      print(\"\\n Digite um valor valido ! \")\n",
        "      continue\n",
        "    else:\n",
        "      break\n",
        "  #Valida a resposta s ou n\n",
        "  if resposta == 'n':\n",
        "    print(f\"\\n Obrigado por utilizar minha calculadora {user}, até a proxima !\")\n",
        "    break\n",
        "  else:\n",
        "    print(\" Vamos lá ! \\n\")\n",
        "    continue"
      ]
    },
    {
      "cell_type": "code",
      "source": [],
      "metadata": {
        "id": "bW5u1Q80MyTZ"
      },
      "execution_count": null,
      "outputs": []
    }
  ]
}